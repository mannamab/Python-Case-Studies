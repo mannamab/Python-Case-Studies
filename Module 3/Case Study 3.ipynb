{
 "metadata": {
  "language_info": {
   "codemirror_mode": {
    "name": "ipython",
    "version": 3
   },
   "file_extension": ".py",
   "mimetype": "text/x-python",
   "name": "python",
   "nbconvert_exporter": "python",
   "pygments_lexer": "ipython3",
   "version": 3
  },
  "orig_nbformat": 2,
  "kernelspec": {
   "name": "python_defaultSpec_1597163764618",
   "display_name": "Python 3.8.5 32-bit"
  }
 },
 "nbformat": 4,
 "nbformat_minor": 2,
 "cells": [
  {
   "cell_type": "code",
   "execution_count": 4,
   "metadata": {},
   "outputs": [],
   "source": [
    "\n",
    "import csv\n",
    "import re\n",
    "\n",
    "csv_data = []\n",
    "\n",
    "with open(\"C://Users//Administrator//.vscode//Module 3//574_m3_datasets_v3.0//FairDealCustomerData.csv\") as f:\n",
    "    reader = csv.reader(f)\n",
    "    csv_data = list([r for r in reader])"
   ]
  },
  {
   "cell_type": "code",
   "execution_count": 5,
   "metadata": {},
   "outputs": [],
   "source": [
    "fullname_data = list([data for data in csv_data if re.match(\n",
    "    r\"([a-zA-Z].+)\\s(\\w+)\\s(\\w+)\", data[1].strip(), re.IGNORECASE)])"
   ]
  },
  {
   "cell_type": "code",
   "execution_count": 10,
   "metadata": {},
   "outputs": [],
   "source": [
    "customerList = []\n",
    "for data in fullname_data:\n",
    "    customerList.append\n",
    "    , customername=data[1].strip(), isblacklisted=bool(data[2].strip())))\n"
   ]
  },
  {
   "cell_type": "code",
   "execution_count": 13,
   "metadata": {},
   "outputs": [
    {
     "output_type": "error",
     "ename": "SyntaxError",
     "evalue": "invalid syntax (<ipython-input-13-ac2ed2092647>, line 1)",
     "traceback": [
      "\u001b[1;36m  File \u001b[1;32m\"<ipython-input-13-ac2ed2092647>\"\u001b[1;36m, line \u001b[1;32m1\u001b[0m\n\u001b[1;33m    customer = (productname=\"XYZ\", customername=\"Sumit Jangir\", isblacklisted=True)\u001b[0m\n\u001b[1;37m                           ^\u001b[0m\n\u001b[1;31mSyntaxError\u001b[0m\u001b[1;31m:\u001b[0m invalid syntax\n"
     ]
    }
   ],
   "source": [
    "customer = (productname=\"XYZ\", customername=\"Sumit Jangir\", isblacklisted=True)\n",
    "customer.createOrder()"
   ]
  },
  {
   "cell_type": "code",
   "execution_count": null,
   "metadata": {},
   "outputs": [],
   "source": []
  }
 ]
}