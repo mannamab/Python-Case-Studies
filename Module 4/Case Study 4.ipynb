{
 "metadata": {
  "language_info": {
   "codemirror_mode": {
    "name": "ipython",
    "version": 3
   },
   "file_extension": ".py",
   "mimetype": "text/x-python",
   "name": "python",
   "nbconvert_exporter": "python",
   "pygments_lexer": "ipython3",
   "version": 3
  },
  "orig_nbformat": 2,
  "kernelspec": {
   "name": "python_defaultSpec_1597081937322",
   "display_name": "Python 3.8.5 32-bit"
  }
 },
 "nbformat": 4,
 "nbformat_minor": 2,
 "cells": [
  {
   "cell_type": "code",
   "execution_count": 28,
   "metadata": {
    "tags": []
   },
   "outputs": [
    {
     "output_type": "stream",
     "name": "stdout",
     "text": "InvoiceNo StockCode                          Description  Quantity  \\\n0         536365    85123A   WHITE HANGING HEART T-LIGHT HOLDER         6   \n1         536365     71053                  WHITE METAL LANTERN         6   \n2         536365    84406B       CREAM CUPID HEARTS COAT HANGER         8   \n3         536365    84029G  KNITTED UNION FLAG HOT WATER BOTTLE         6   \n4         536365    84029E       RED WOOLLY HOTTIE WHITE HEART.         6   \n...          ...       ...                                  ...       ...   \n541869    581587     22613          PACK OF 20 SPACEBOY NAPKINS        12   \n541870    581587     22899         CHILDREN'S APRON DOLLY GIRL          6   \n541871    581587     23254        CHILDRENS CUTLERY DOLLY GIRL          4   \n541872    581587     23255      CHILDRENS CUTLERY CIRCUS PARADE         4   \n541873    581587     22138        BAKING SET 9 PIECE RETROSPOT          3   \n\n        UnitPrice  Amount InvoiceDate  Day  Month  Year  CustomerID  \\\n0            2.55   15.30    01-12-10    1     12  2010     17850.0   \n1            3.39   20.34    01-12-10    1     12  2010     17850.0   \n2            2.75   22.00    01-12-10    1     12  2010     17850.0   \n3            3.39   20.34    01-12-10    1     12  2010     17850.0   \n4            3.39   20.34    01-12-10    1     12  2010     17850.0   \n...           ...     ...         ...  ...    ...   ...         ...   \n541869       0.85   10.20    09-12-11    9     12  2011     12680.0   \n541870       2.10   12.60    09-12-11    9     12  2011     12680.0   \n541871       4.15   16.60    09-12-11    9     12  2011     12680.0   \n541872       4.15   16.60    09-12-11    9     12  2011     12680.0   \n541873       4.95   14.85    09-12-11    9     12  2011     12680.0   \n\n               Country  \n0       United Kingdom  \n1       United Kingdom  \n2       United Kingdom  \n3       United Kingdom  \n4       United Kingdom  \n...                ...  \n541869          France  \n541870          France  \n541871          France  \n541872          France  \n541873          France  \n\n[541874 rows x 12 columns]\n"
    }
   ],
   "source": [
    "import pandas as pd\n",
    "import matplotlib.pyplot as plt\n",
    "\n",
    "df = pd.read_csv(\"C://Users//Administrator//.vscode//Module 4//574_m4_datasets_v3.0//BigMartSalesData.csv\")\n",
    "print(df)\n",
    "\n"
   ]
  },
  {
   "cell_type": "code",
   "execution_count": 31,
   "metadata": {},
   "outputs": [],
   "source": [
    "invoice_amounts = df.filter([\"InvoiceDate\", \"Amount\"]).groupby(\n",
    "    \"InvoiceDate\", as_index=False).sum()\n",
    "\n",
    "plt.scatter(invoice_amounts[\"InvoiceDate\"], invoice_amounts[\"Amount\"])\n",
    "plt.ylim(20000, 100000)\n",
    "plt.show()"
   ]
  },
  {
   "cell_type": "code",
   "execution_count": null,
   "metadata": {},
   "outputs": [],
   "source": []
  }
 ]
}