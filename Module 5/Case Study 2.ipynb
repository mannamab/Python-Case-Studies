{
 "metadata": {
  "language_info": {
   "codemirror_mode": {
    "name": "ipython",
    "version": 3
   },
   "file_extension": ".py",
   "mimetype": "text/x-python",
   "name": "python",
   "nbconvert_exporter": "python",
   "pygments_lexer": "ipython3",
   "version": 3
  },
  "orig_nbformat": 2,
  "kernelspec": {
   "name": "python_defaultSpec_1597164551108",
   "display_name": "Python 3.8.5 32-bit"
  }
 },
 "nbformat": 4,
 "nbformat_minor": 2,
 "cells": [
  {
   "cell_type": "code",
   "execution_count": 1,
   "metadata": {
    "tags": []
   },
   "outputs": [
    {
     "output_type": "stream",
     "name": "stdout",
     "text": "Id       EmployeeName                                        JobTitle  \\\n0   1     NATHANIEL FORD  GENERAL MANAGER-METROPOLITAN TRANSIT AUTHORITY   \n1   2       GARY JIMENEZ                 CAPTAIN III (POLICE DEPARTMENT)   \n2   3     ALBERT PARDINI                 CAPTAIN III (POLICE DEPARTMENT)   \n3   4  CHRISTOPHER CHONG            WIRE ROPE CABLE MAINTENANCE MECHANIC   \n4   5    PATRICK GARDNER    DEPUTY CHIEF OF DEPARTMENT,(FIRE DEPARTMENT)   \n\n     BasePay  OvertimePay   OtherPay  Benefits   TotalPay  TotalPayBenefits  \\\n0  167411.18         0.00  400184.25       NaN  567595.43         567595.43   \n1  155966.02    245131.88  137811.38       NaN  538909.28         538909.28   \n2  212739.13    106088.18   16452.60       NaN  335279.91         335279.91   \n3   77916.00     56120.71  198306.90       NaN  332343.61         332343.61   \n4  134401.60      9737.00  182234.59       NaN  326373.19         326373.19   \n\n   Year  Notes         Agency Status  \n0  2011    NaN  San Francisco    NaN  \n1  2011    NaN  San Francisco    NaN  \n2  2011    NaN  San Francisco    NaN  \n3  2011    NaN  San Francisco    NaN  \n4  2011    NaN  San Francisco    NaN  \n"
    }
   ],
   "source": [
    "import pandas as pd\n",
    "import matplotlib as plt\n",
    "import numpy as np\n",
    "\n",
    "df = pd.read_csv(\"C://Users//Administrator//.vscode//Module 5//574_m5_datasets_v3.0//Salaries.csv\", low_memory=False)\n",
    "print(df.head())"
   ]
  },
  {
   "cell_type": "code",
   "execution_count": 2,
   "metadata": {
    "tags": []
   },
   "outputs": [
    {
     "output_type": "stream",
     "name": "stdout",
     "text": "TotalPay\nYear              \n2011  2.594113e+09\n2012  2.724736e+09\n2013  2.918656e+09\n2014  2.876911e+09\nTotal change from 2011 to 2014 is 282797920.53994226\n"
    }
   ],
   "source": [
    "#1\n",
    "grouped_df = df.groupby([\"Year\"]).agg(\"sum\").filter([\"Year\", \"TotalPay\"])\n",
    "print(grouped_df.head())\n",
    "\n",
    "total_pay_2011 = grouped_df.query(\"Year == 2011\")[\"TotalPay\"]\n",
    "total_pay_2014 = grouped_df.query(\"Year == 2014\")[\"TotalPay\"]\n",
    "\n",
    "total_change_2011_2014 = float(total_pay_2014) - float(total_pay_2011)\n",
    "\n",
    "print(\"Total change from 2011 to 2014 is \" + str(total_change_2011_2014))"
   ]
  },
  {
   "cell_type": "code",
   "execution_count": 3,
   "metadata": {
    "tags": []
   },
   "outputs": [
    {
     "output_type": "stream",
     "name": "stdout",
     "text": "highest mean Salary job title is                           TotalPay\nJobTitle                          \nChief Investment Officer  339653.7\n"
    }
   ],
   "source": [
    "#2\n",
    "grouped_df_JobTitle = df.query(\"Year == 2014\").groupby(\n",
    "    [\"JobTitle\"]).agg(\"mean\").filter([\"JobTitle\", \"TotalPay\"])\n",
    "\n",
    "max_min_salary = grouped_df_JobTitle[grouped_df_JobTitle[\"TotalPay\"]\n",
    "                                     == grouped_df_JobTitle[\"TotalPay\"].max()]\n",
    "print(\"highest mean Salary job title is \" + str(max_min_salary))"
   ]
  },
  {
   "cell_type": "code",
   "execution_count": 4,
   "metadata": {
    "tags": []
   },
   "outputs": [
    {
     "output_type": "stream",
     "name": "stdout",
     "text": "205918599.27000067 money could have been saved in Year 2014 by stopping OverTimePay\n"
    }
   ],
   "source": [
    "#3\n",
    "grouped_df_overTime = df.groupby([\"Year\"]).agg(\n",
    "    \"sum\").filter([\"OvertimePay\"]).query(\"Year == 2014\")\n",
    "\n",
    "print(str(float(grouped_df_overTime[\"OvertimePay\"])) +\n",
    "      \" money could have been saved in Year 2014 by stopping OverTimePay\")"
   ]
  },
  {
   "cell_type": "code",
   "execution_count": 5,
   "metadata": {
    "tags": []
   },
   "outputs": [
    {
     "output_type": "stream",
     "name": "stdout",
     "text": "TotalPay\nYear JobTitle                              \n2014 Transit Operator                  2479\n     Special Nurse                     1478\n     Registered Nurse                  1234\n     Public Svc Aide-Public Works       916\n     Firefighter                        815\n"
    }
   ],
   "source": [
    "#4\n",
    "grouped_df_5_common = df.groupby([\"Year\", \"JobTitle\"]).agg(\"count\").filter(\n",
    "    [\"Year\", \"TotalPay\", \"JobTitle\"]).query(\"Year == 2014\").sort_values(\"TotalPay\", ascending=False)\n",
    "\n",
    "print(grouped_df_5_common.head(5))\n"
   ]
  },
  {
   "cell_type": "code",
   "execution_count": null,
   "metadata": {
    "tags": []
   },
   "outputs": [],
   "source": [
    "#5\n",
    "grouped_df_5_top_earners = df.groupby([\"Year\", \"TotalPay\"]).agg(\n",
    "    \"max\").filter([\"Year\", \"TotalPay\", \"EmployeeName\"])\n",
    "\n",
    "print(grouped_df_5_top_earners.head())"
   ]
  }
 ]
}