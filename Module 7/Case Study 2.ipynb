{
 "metadata": {
  "language_info": {
   "codemirror_mode": {
    "name": "ipython",
    "version": 3
   },
   "file_extension": ".py",
   "mimetype": "text/x-python",
   "name": "python",
   "nbconvert_exporter": "python",
   "pygments_lexer": "ipython3",
   "version": 3
  },
  "orig_nbformat": 2,
  "kernelspec": {
   "name": "python_defaultSpec_1597249236894",
   "display_name": "Python 3.8.5 32-bit"
  }
 },
 "nbformat": 4,
 "nbformat_minor": 2,
 "cells": [
  {
   "cell_type": "code",
   "execution_count": 10,
   "metadata": {},
   "outputs": [
    {
     "output_type": "execute_result",
     "data": {
      "text/plain": "  surgery    age  hospital_number  rectal_temp  pulse  respiratory_rate  \\\n0      no  adult           530101         38.5   66.0              28.0   \n1     yes  adult           534817         39.2   88.0              20.0   \n2      no  adult           530334         38.3   40.0              24.0   \n3     yes  young          5290409         39.1  164.0              84.0   \n4      no  adult           530255         37.3  104.0              35.0   \n\n  temp_of_extremities peripheral_pulse mucous_membrane capillary_refill_time  \\\n0                cool          reduced             NaN            more_3_sec   \n1                 NaN              NaN   pale_cyanotic            less_3_sec   \n2              normal           normal       pale_pink            less_3_sec   \n3                cold           normal   dark_cyanotic            more_3_sec   \n4                 NaN              NaN   dark_cyanotic            more_3_sec   \n\n   ... packed_cell_volume total_protein abdomo_appearance abdomo_protein  \\\n0  ...               45.0           8.4               NaN            NaN   \n1  ...               50.0          85.0            cloudy            2.0   \n2  ...               33.0           6.7               NaN            NaN   \n3  ...               48.0           7.2     serosanguious            5.3   \n4  ...               74.0           7.4               NaN            NaN   \n\n      outcome  surgical_lesion lesion_1 lesion_2  lesion_3  cp_data  \n0        died               no    11300        0         0       no  \n1  euthanized               no     2208        0         0       no  \n2       lived               no        0        0         0      yes  \n3        died              yes     2208        0         0      yes  \n4        died               no     4300        0         0       no  \n\n[5 rows x 28 columns]",
      "text/html": "<div>\n<style scoped>\n    .dataframe tbody tr th:only-of-type {\n        vertical-align: middle;\n    }\n\n    .dataframe tbody tr th {\n        vertical-align: top;\n    }\n\n    .dataframe thead th {\n        text-align: right;\n    }\n</style>\n<table border=\"1\" class=\"dataframe\">\n  <thead>\n    <tr style=\"text-align: right;\">\n      <th></th>\n      <th>surgery</th>\n      <th>age</th>\n      <th>hospital_number</th>\n      <th>rectal_temp</th>\n      <th>pulse</th>\n      <th>respiratory_rate</th>\n      <th>temp_of_extremities</th>\n      <th>peripheral_pulse</th>\n      <th>mucous_membrane</th>\n      <th>capillary_refill_time</th>\n      <th>...</th>\n      <th>packed_cell_volume</th>\n      <th>total_protein</th>\n      <th>abdomo_appearance</th>\n      <th>abdomo_protein</th>\n      <th>outcome</th>\n      <th>surgical_lesion</th>\n      <th>lesion_1</th>\n      <th>lesion_2</th>\n      <th>lesion_3</th>\n      <th>cp_data</th>\n    </tr>\n  </thead>\n  <tbody>\n    <tr>\n      <th>0</th>\n      <td>no</td>\n      <td>adult</td>\n      <td>530101</td>\n      <td>38.5</td>\n      <td>66.0</td>\n      <td>28.0</td>\n      <td>cool</td>\n      <td>reduced</td>\n      <td>NaN</td>\n      <td>more_3_sec</td>\n      <td>...</td>\n      <td>45.0</td>\n      <td>8.4</td>\n      <td>NaN</td>\n      <td>NaN</td>\n      <td>died</td>\n      <td>no</td>\n      <td>11300</td>\n      <td>0</td>\n      <td>0</td>\n      <td>no</td>\n    </tr>\n    <tr>\n      <th>1</th>\n      <td>yes</td>\n      <td>adult</td>\n      <td>534817</td>\n      <td>39.2</td>\n      <td>88.0</td>\n      <td>20.0</td>\n      <td>NaN</td>\n      <td>NaN</td>\n      <td>pale_cyanotic</td>\n      <td>less_3_sec</td>\n      <td>...</td>\n      <td>50.0</td>\n      <td>85.0</td>\n      <td>cloudy</td>\n      <td>2.0</td>\n      <td>euthanized</td>\n      <td>no</td>\n      <td>2208</td>\n      <td>0</td>\n      <td>0</td>\n      <td>no</td>\n    </tr>\n    <tr>\n      <th>2</th>\n      <td>no</td>\n      <td>adult</td>\n      <td>530334</td>\n      <td>38.3</td>\n      <td>40.0</td>\n      <td>24.0</td>\n      <td>normal</td>\n      <td>normal</td>\n      <td>pale_pink</td>\n      <td>less_3_sec</td>\n      <td>...</td>\n      <td>33.0</td>\n      <td>6.7</td>\n      <td>NaN</td>\n      <td>NaN</td>\n      <td>lived</td>\n      <td>no</td>\n      <td>0</td>\n      <td>0</td>\n      <td>0</td>\n      <td>yes</td>\n    </tr>\n    <tr>\n      <th>3</th>\n      <td>yes</td>\n      <td>young</td>\n      <td>5290409</td>\n      <td>39.1</td>\n      <td>164.0</td>\n      <td>84.0</td>\n      <td>cold</td>\n      <td>normal</td>\n      <td>dark_cyanotic</td>\n      <td>more_3_sec</td>\n      <td>...</td>\n      <td>48.0</td>\n      <td>7.2</td>\n      <td>serosanguious</td>\n      <td>5.3</td>\n      <td>died</td>\n      <td>yes</td>\n      <td>2208</td>\n      <td>0</td>\n      <td>0</td>\n      <td>yes</td>\n    </tr>\n    <tr>\n      <th>4</th>\n      <td>no</td>\n      <td>adult</td>\n      <td>530255</td>\n      <td>37.3</td>\n      <td>104.0</td>\n      <td>35.0</td>\n      <td>NaN</td>\n      <td>NaN</td>\n      <td>dark_cyanotic</td>\n      <td>more_3_sec</td>\n      <td>...</td>\n      <td>74.0</td>\n      <td>7.4</td>\n      <td>NaN</td>\n      <td>NaN</td>\n      <td>died</td>\n      <td>no</td>\n      <td>4300</td>\n      <td>0</td>\n      <td>0</td>\n      <td>no</td>\n    </tr>\n  </tbody>\n</table>\n<p>5 rows × 28 columns</p>\n</div>"
     },
     "metadata": {},
     "execution_count": 10
    }
   ],
   "source": [
    "from sklearn import metrics\n",
    "from sklearn.tree import DecisionTreeClassifier\n",
    "from sklearn.ensemble import RandomForestClassifier\n",
    "from sklearn.model_selection import train_test_split\n",
    "from sklearn.impute import SimpleImputer\n",
    "import numpy as np\n",
    "import pandas as pd\n",
    "import matplotlib.pyplot as plt\n",
    "import seaborn as sns\n",
    "df_horse = pd.read_csv(\"C://Users//Administrator//.vscode//Module 7//horse.csv\")\n",
    "df_horse.head()\n"
   ]
  },
  {
   "cell_type": "code",
   "execution_count": 11,
   "metadata": {},
   "outputs": [],
   "source": [
    "#1\n",
    "df_horse.isna()\n",
    "\n",
    "Y = df_horse[\"outcome\"]\n",
    "X = df_horse.drop([\"outcome\"], axis=1)"
   ]
  },
  {
   "cell_type": "code",
   "execution_count": 12,
   "metadata": {},
   "outputs": [
    {
     "output_type": "execute_result",
     "data": {
      "text/plain": "   hospital_number  rectal_temp  pulse  respiratory_rate  \\\n0           530101         38.5   66.0              28.0   \n1           534817         39.2   88.0              20.0   \n2           530334         38.3   40.0              24.0   \n3          5290409         39.1  164.0              84.0   \n4           530255         37.3  104.0              35.0   \n\n   nasogastric_reflux_ph  packed_cell_volume  total_protein  abdomo_protein  \\\n0                    NaN                45.0            8.4             NaN   \n1                    NaN                50.0           85.0             2.0   \n2                    NaN                33.0            6.7             NaN   \n3                    5.0                48.0            7.2             5.3   \n4                    NaN                74.0            7.4             NaN   \n\n   lesion_1  lesion_2  ...  abdomen_firm  abdomen_normal  abdomen_other  \\\n0     11300         0  ...             0               0              0   \n1      2208         0  ...             0               0              1   \n2         0         0  ...             0               1              0   \n3      2208         0  ...             0               0              0   \n4      4300         0  ...             0               0              0   \n\n   abdomo_appearance_clear  abdomo_appearance_cloudy  \\\n0                        0                         0   \n1                        0                         1   \n2                        0                         0   \n3                        0                         0   \n4                        0                         0   \n\n   abdomo_appearance_serosanguious  surgical_lesion_no  surgical_lesion_yes  \\\n0                                0                   1                    0   \n1                                0                   1                    0   \n2                                0                   1                    0   \n3                                1                   0                    1   \n4                                0                   1                    0   \n\n   cp_data_no  cp_data_yes  \n0           1            0  \n1           1            0  \n2           0            1  \n3           0            1  \n4           1            0  \n\n[5 rows x 67 columns]",
      "text/html": "<div>\n<style scoped>\n    .dataframe tbody tr th:only-of-type {\n        vertical-align: middle;\n    }\n\n    .dataframe tbody tr th {\n        vertical-align: top;\n    }\n\n    .dataframe thead th {\n        text-align: right;\n    }\n</style>\n<table border=\"1\" class=\"dataframe\">\n  <thead>\n    <tr style=\"text-align: right;\">\n      <th></th>\n      <th>hospital_number</th>\n      <th>rectal_temp</th>\n      <th>pulse</th>\n      <th>respiratory_rate</th>\n      <th>nasogastric_reflux_ph</th>\n      <th>packed_cell_volume</th>\n      <th>total_protein</th>\n      <th>abdomo_protein</th>\n      <th>lesion_1</th>\n      <th>lesion_2</th>\n      <th>...</th>\n      <th>abdomen_firm</th>\n      <th>abdomen_normal</th>\n      <th>abdomen_other</th>\n      <th>abdomo_appearance_clear</th>\n      <th>abdomo_appearance_cloudy</th>\n      <th>abdomo_appearance_serosanguious</th>\n      <th>surgical_lesion_no</th>\n      <th>surgical_lesion_yes</th>\n      <th>cp_data_no</th>\n      <th>cp_data_yes</th>\n    </tr>\n  </thead>\n  <tbody>\n    <tr>\n      <th>0</th>\n      <td>530101</td>\n      <td>38.5</td>\n      <td>66.0</td>\n      <td>28.0</td>\n      <td>NaN</td>\n      <td>45.0</td>\n      <td>8.4</td>\n      <td>NaN</td>\n      <td>11300</td>\n      <td>0</td>\n      <td>...</td>\n      <td>0</td>\n      <td>0</td>\n      <td>0</td>\n      <td>0</td>\n      <td>0</td>\n      <td>0</td>\n      <td>1</td>\n      <td>0</td>\n      <td>1</td>\n      <td>0</td>\n    </tr>\n    <tr>\n      <th>1</th>\n      <td>534817</td>\n      <td>39.2</td>\n      <td>88.0</td>\n      <td>20.0</td>\n      <td>NaN</td>\n      <td>50.0</td>\n      <td>85.0</td>\n      <td>2.0</td>\n      <td>2208</td>\n      <td>0</td>\n      <td>...</td>\n      <td>0</td>\n      <td>0</td>\n      <td>1</td>\n      <td>0</td>\n      <td>1</td>\n      <td>0</td>\n      <td>1</td>\n      <td>0</td>\n      <td>1</td>\n      <td>0</td>\n    </tr>\n    <tr>\n      <th>2</th>\n      <td>530334</td>\n      <td>38.3</td>\n      <td>40.0</td>\n      <td>24.0</td>\n      <td>NaN</td>\n      <td>33.0</td>\n      <td>6.7</td>\n      <td>NaN</td>\n      <td>0</td>\n      <td>0</td>\n      <td>...</td>\n      <td>0</td>\n      <td>1</td>\n      <td>0</td>\n      <td>0</td>\n      <td>0</td>\n      <td>0</td>\n      <td>1</td>\n      <td>0</td>\n      <td>0</td>\n      <td>1</td>\n    </tr>\n    <tr>\n      <th>3</th>\n      <td>5290409</td>\n      <td>39.1</td>\n      <td>164.0</td>\n      <td>84.0</td>\n      <td>5.0</td>\n      <td>48.0</td>\n      <td>7.2</td>\n      <td>5.3</td>\n      <td>2208</td>\n      <td>0</td>\n      <td>...</td>\n      <td>0</td>\n      <td>0</td>\n      <td>0</td>\n      <td>0</td>\n      <td>0</td>\n      <td>1</td>\n      <td>0</td>\n      <td>1</td>\n      <td>0</td>\n      <td>1</td>\n    </tr>\n    <tr>\n      <th>4</th>\n      <td>530255</td>\n      <td>37.3</td>\n      <td>104.0</td>\n      <td>35.0</td>\n      <td>NaN</td>\n      <td>74.0</td>\n      <td>7.4</td>\n      <td>NaN</td>\n      <td>4300</td>\n      <td>0</td>\n      <td>...</td>\n      <td>0</td>\n      <td>0</td>\n      <td>0</td>\n      <td>0</td>\n      <td>0</td>\n      <td>0</td>\n      <td>1</td>\n      <td>0</td>\n      <td>1</td>\n      <td>0</td>\n    </tr>\n  </tbody>\n</table>\n<p>5 rows × 67 columns</p>\n</div>"
     },
     "metadata": {},
     "execution_count": 12
    }
   ],
   "source": [
    "#2\n",
    "X = pd.get_dummies(X)\n",
    "X.head()\n"
   ]
  },
  {
   "cell_type": "code",
   "execution_count": 13,
   "metadata": {},
   "outputs": [],
   "source": [
    "#3\n",
    "X = X.apply(lambda x: x.fillna(x.value_counts().index[0]))\n"
   ]
  },
  {
   "cell_type": "code",
   "execution_count": 14,
   "metadata": {},
   "outputs": [
    {
     "output_type": "execute_result",
     "data": {
      "text/plain": "1.0"
     },
     "metadata": {},
     "execution_count": 14
    }
   ],
   "source": [
    "#4\n",
    "dec_tree = DecisionTreeClassifier()\n",
    "dec_tree.fit(X, Y)\n",
    "predicted_outcome = dec_tree.predict(X)\n",
    "metrics.accuracy_score(predicted_outcome, Y)"
   ]
  },
  {
   "cell_type": "code",
   "execution_count": 15,
   "metadata": {},
   "outputs": [
    {
     "output_type": "execute_result",
     "data": {
      "text/plain": "1.0"
     },
     "metadata": {},
     "execution_count": 15
    }
   ],
   "source": [
    "#5\n",
    "random_forest = RandomForestClassifier()\n",
    "random_forest.fit(X, Y)\n",
    "predicted_outcome = random_forest.predict(X)\n",
    "metrics.accuracy_score(predicted_outcome, Y)"
   ]
  },
  {
   "cell_type": "code",
   "execution_count": null,
   "metadata": {},
   "outputs": [],
   "source": []
  }
 ]
}