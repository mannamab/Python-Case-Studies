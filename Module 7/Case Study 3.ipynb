{
 "metadata": {
  "language_info": {
   "codemirror_mode": {
    "name": "ipython",
    "version": 3
   },
   "file_extension": ".py",
   "mimetype": "text/x-python",
   "name": "python",
   "nbconvert_exporter": "python",
   "pygments_lexer": "ipython3",
   "version": 3
  },
  "orig_nbformat": 2,
  "kernelspec": {
   "name": "python_defaultSpec_1597249680649",
   "display_name": "Python 3.8.5 32-bit"
  }
 },
 "nbformat": 4,
 "nbformat_minor": 2,
 "cells": [
  {
   "cell_type": "code",
   "execution_count": 1,
   "metadata": {},
   "outputs": [],
   "source": [
    "from sklearn import metrics\n",
    "from sklearn.ensemble import RandomForestClassifier\n",
    "from sklearn.model_selection import train_test_split\n",
    "import numpy as np\n",
    "import pandas as pd\n",
    "import matplotlib.pyplot as plt\n",
    "import seaborn as sns"
   ]
  },
  {
   "cell_type": "code",
   "execution_count": 3,
   "metadata": {
    "tags": []
   },
   "outputs": [
    {
     "output_type": "stream",
     "name": "stdout",
     "text": "credit.policy             purpose  int.rate  installment  log.annual.inc  \\\n0              1  debt_consolidation    0.1189       829.10       11.350407   \n1              1         credit_card    0.1071       228.22       11.082143   \n2              1  debt_consolidation    0.1357       366.86       10.373491   \n3              1  debt_consolidation    0.1008       162.34       11.350407   \n4              1         credit_card    0.1426       102.92       11.299732   \n\n     dti  fico  days.with.cr.line  revol.bal  revol.util  inq.last.6mths  \\\n0  19.48   737        5639.958333      28854        52.1               0   \n1  14.29   707        2760.000000      33623        76.7               0   \n2  11.63   682        4710.000000       3511        25.6               1   \n3   8.10   712        2699.958333      33667        73.2               1   \n4  14.97   667        4066.000000       4740        39.5               0   \n\n   delinq.2yrs  pub.rec  not.fully.paid  \n0            0        0               0  \n1            0        0               0  \n2            0        0               0  \n3            0        0               0  \n4            1        0               0  \n"
    }
   ],
   "source": [
    "data = pd.read_csv(\"C://Users//Administrator//.vscode//Module 7//loan_borowwer_data.csv\")\n",
    "print(data.head())"
   ]
  },
  {
   "cell_type": "code",
   "execution_count": 4,
   "metadata": {},
   "outputs": [],
   "source": [
    "X = data.iloc[:, 2:13]\n",
    "Y = data[\"not.fully.paid\"]\n"
   ]
  },
  {
   "cell_type": "code",
   "execution_count": 5,
   "metadata": {},
   "outputs": [],
   "source": [
    "train_x, test_x, train_y, test_y = train_test_split(\n",
    "    X, Y, random_state=10, test_size=0.3)\n",
    "    "
   ]
  },
  {
   "cell_type": "code",
   "execution_count": 6,
   "metadata": {},
   "outputs": [
    {
     "output_type": "execute_result",
     "data": {
      "text/plain": "RandomForestClassifier()"
     },
     "metadata": {},
     "execution_count": 6
    }
   ],
   "source": [
    "random_class = RandomForestClassifier()\n",
    "random_class.fit(train_x, train_y)"
   ]
  },
  {
   "cell_type": "code",
   "execution_count": 7,
   "metadata": {},
   "outputs": [],
   "source": [
    "predicted_values = random_class.predict(test_x)\n"
   ]
  },
  {
   "cell_type": "code",
   "execution_count": 8,
   "metadata": {},
   "outputs": [
    {
     "output_type": "execute_result",
     "data": {
      "text/plain": "0.8420320111343076"
     },
     "metadata": {},
     "execution_count": 8
    }
   ],
   "source": [
    "metrics.accuracy_score(predicted_values, test_y)"
   ]
  },
  {
   "cell_type": "code",
   "execution_count": null,
   "metadata": {},
   "outputs": [],
   "source": []
  }
 ]
}