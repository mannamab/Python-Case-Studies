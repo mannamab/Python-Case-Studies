{
 "metadata": {
  "language_info": {
   "codemirror_mode": {
    "name": "ipython",
    "version": 3
   },
   "file_extension": ".py",
   "mimetype": "text/x-python",
   "name": "python",
   "nbconvert_exporter": "python",
   "pygments_lexer": "ipython3",
   "version": "3.8.5-final"
  },
  "orig_nbformat": 2,
  "kernelspec": {
   "name": "python_defaultSpec_1597417695258",
   "display_name": "Python 3.8.5 32-bit"
  }
 },
 "nbformat": 4,
 "nbformat_minor": 2,
 "cells": [
  {
   "cell_type": "code",
   "execution_count": 1,
   "metadata": {},
   "outputs": [],
   "source": [
    "from sklearn import metrics\n",
    "from sklearn.model_selection import train_test_split\n",
    "from sklearn.naive_bayes import GaussianNB\n",
    "import pandas as pd\n",
    "import numpy as np\n",
    "import matplotlib.pyplot as plt"
   ]
  },
  {
   "cell_type": "code",
   "execution_count": 3,
   "metadata": {},
   "outputs": [
    {
     "output_type": "execute_result",
     "data": {
      "text/plain": "        date                time username  wrist  activity  acceleration_x  \\\n0  2017-6-30  13:51:15:847724020   viktor      0         0          0.2650   \n1  2017-6-30  13:51:16:246945023   viktor      0         0          0.6722   \n2  2017-6-30  13:51:16:446233987   viktor      0         0          0.4399   \n3  2017-6-30  13:51:16:646117985   viktor      0         0          0.3031   \n4  2017-6-30  13:51:16:846738994   viktor      0         0          0.4814   \n\n   acceleration_y  acceleration_z  gyro_x  gyro_y  gyro_z  \n0         -0.7814         -0.0076 -0.0590  0.0325 -2.9296  \n1         -1.1233         -0.2344 -0.1757  0.0208  0.1269  \n2         -1.4817          0.0722 -0.9105  0.1063 -2.4367  \n3         -0.8125          0.0888  0.1199 -0.4099 -2.9336  \n4         -0.9312          0.0359  0.0527  0.4379  2.4922  ",
      "text/html": "<div>\n<style scoped>\n    .dataframe tbody tr th:only-of-type {\n        vertical-align: middle;\n    }\n\n    .dataframe tbody tr th {\n        vertical-align: top;\n    }\n\n    .dataframe thead th {\n        text-align: right;\n    }\n</style>\n<table border=\"1\" class=\"dataframe\">\n  <thead>\n    <tr style=\"text-align: right;\">\n      <th></th>\n      <th>date</th>\n      <th>time</th>\n      <th>username</th>\n      <th>wrist</th>\n      <th>activity</th>\n      <th>acceleration_x</th>\n      <th>acceleration_y</th>\n      <th>acceleration_z</th>\n      <th>gyro_x</th>\n      <th>gyro_y</th>\n      <th>gyro_z</th>\n    </tr>\n  </thead>\n  <tbody>\n    <tr>\n      <th>0</th>\n      <td>2017-6-30</td>\n      <td>13:51:15:847724020</td>\n      <td>viktor</td>\n      <td>0</td>\n      <td>0</td>\n      <td>0.2650</td>\n      <td>-0.7814</td>\n      <td>-0.0076</td>\n      <td>-0.0590</td>\n      <td>0.0325</td>\n      <td>-2.9296</td>\n    </tr>\n    <tr>\n      <th>1</th>\n      <td>2017-6-30</td>\n      <td>13:51:16:246945023</td>\n      <td>viktor</td>\n      <td>0</td>\n      <td>0</td>\n      <td>0.6722</td>\n      <td>-1.1233</td>\n      <td>-0.2344</td>\n      <td>-0.1757</td>\n      <td>0.0208</td>\n      <td>0.1269</td>\n    </tr>\n    <tr>\n      <th>2</th>\n      <td>2017-6-30</td>\n      <td>13:51:16:446233987</td>\n      <td>viktor</td>\n      <td>0</td>\n      <td>0</td>\n      <td>0.4399</td>\n      <td>-1.4817</td>\n      <td>0.0722</td>\n      <td>-0.9105</td>\n      <td>0.1063</td>\n      <td>-2.4367</td>\n    </tr>\n    <tr>\n      <th>3</th>\n      <td>2017-6-30</td>\n      <td>13:51:16:646117985</td>\n      <td>viktor</td>\n      <td>0</td>\n      <td>0</td>\n      <td>0.3031</td>\n      <td>-0.8125</td>\n      <td>0.0888</td>\n      <td>0.1199</td>\n      <td>-0.4099</td>\n      <td>-2.9336</td>\n    </tr>\n    <tr>\n      <th>4</th>\n      <td>2017-6-30</td>\n      <td>13:51:16:846738994</td>\n      <td>viktor</td>\n      <td>0</td>\n      <td>0</td>\n      <td>0.4814</td>\n      <td>-0.9312</td>\n      <td>0.0359</td>\n      <td>0.0527</td>\n      <td>0.4379</td>\n      <td>2.4922</td>\n    </tr>\n  </tbody>\n</table>\n</div>"
     },
     "metadata": {},
     "execution_count": 3
    }
   ],
   "source": [
    "#1\n",
    "data = pd.read_csv(\"C://Users//Administrator//.vscode//Module 9//run_or_walk.csv\")\n",
    "data.head()"
   ]
  },
  {
   "cell_type": "code",
   "execution_count": 4,
   "metadata": {},
   "outputs": [],
   "source": [
    "#2\n",
    "X = data.iloc[:, 5:]\n",
    "Y = data[\"activity\"]"
   ]
  },
  {
   "cell_type": "code",
   "execution_count": 5,
   "metadata": {
    "tags": []
   },
   "outputs": [
    {
     "output_type": "stream",
     "name": "stdout",
     "text": "\nAccuracy Score\n\n0.9580840576438274\n\nClassification Score\n\n              precision    recall  f1-score   support\n\n           0       0.99      0.93      0.96     14115\n           1       0.93      0.99      0.96     12462\n\n    accuracy                           0.96     26577\n   macro avg       0.96      0.96      0.96     26577\nweighted avg       0.96      0.96      0.96     26577\n\n"
    }
   ],
   "source": [
    "#3\n",
    "train_x, test_x, train_y, test_y = train_test_split(\n",
    "    X, Y, random_state=10, test_size=0.30)\n",
    "\n",
    "g_model = GaussianNB()\n",
    "g_model.fit(train_x, train_y)\n",
    "\n",
    "predicted_values = g_model.predict(test_x)\n",
    "\n",
    "print(\"\\nAccuracy Score\\n\")\n",
    "print(metrics.accuracy_score(predicted_values, test_y))\n",
    "\n",
    "print(\"\\nClassification Score\\n\")\n",
    "print(metrics.classification_report(predicted_values, test_y))"
   ]
  },
  {
   "cell_type": "code",
   "execution_count": 8,
   "metadata": {
    "tags": []
   },
   "outputs": [
    {
     "output_type": "stream",
     "name": "stdout",
     "text": "\nAccuracy Score\n\n0.958648455431388\n\nClassification Score\n\n              precision    recall  f1-score   support\n\n           0       0.99      0.93      0.96     14158\n           1       0.92      0.99      0.96     12419\n\n    accuracy                           0.96     26577\n   macro avg       0.96      0.96      0.96     26577\nweighted avg       0.96      0.96      0.96     26577\n\n\nAccuracy Score\n\n0.6486811905030666\n\nClassification Score\n\n              precision    recall  f1-score   support\n\n           0       0.74      0.62      0.68     15810\n           1       0.55      0.69      0.61     10767\n\n    accuracy                           0.65     26577\n   macro avg       0.65      0.65      0.65     26577\nweighted avg       0.67      0.65      0.65     26577\n\n"
    }
   ],
   "source": [
    "#4\n",
    "X_A = data.iloc[:, 5:8]\n",
    "Y_A = data[\"activity\"]\n",
    "\n",
    "train_x_a, test_x_a, train_y_a, test_y_a = train_test_split(\n",
    "    X_A, Y_A, random_state=10, test_size=0.30)\n",
    "\n",
    "g_model.fit(train_x_a, train_y_a)\n",
    "predicted_values_a = g_model.predict(test_x_a)\n",
    "\n",
    "print(\"\\nAccuracy Score\\n\")\n",
    "print(metrics.accuracy_score(predicted_values_a, test_y_a))\n",
    "\n",
    "print(\"\\nClassification Score\\n\")\n",
    "print(metrics.classification_report(predicted_values_a, test_y_a))\n",
    "X_G = data.iloc[:, 8:]\n",
    "Y_G = data[\"activity\"]\n",
    "\n",
    "train_x_g, test_x_g, train_y_g, test_y_g = train_test_split(\n",
    "    X_G, Y_G, random_state=10, test_size=0.30)\n",
    "\n",
    "g_model.fit(train_x_g, train_y_g)\n",
    "predicted_values_g = g_model.predict(test_x_g)\n",
    "\n",
    "print(\"\\nAccuracy Score\\n\")\n",
    "print(metrics.accuracy_score(predicted_values_g, test_y_g))\n",
    "\n",
    "print(\"\\nClassification Score\\n\")\n",
    "print(metrics.classification_report(predicted_values_g, test_y_g))\n"
   ]
  },
  {
   "cell_type": "code",
   "execution_count": null,
   "metadata": {},
   "outputs": [],
   "source": []
  }
 ]
}