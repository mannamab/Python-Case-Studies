{
 "metadata": {
  "language_info": {
   "codemirror_mode": {
    "name": "ipython",
    "version": 3
   },
   "file_extension": ".py",
   "mimetype": "text/x-python",
   "name": "python",
   "nbconvert_exporter": "python",
   "pygments_lexer": "ipython3",
   "version": "3.8.5-final"
  },
  "orig_nbformat": 2,
  "kernelspec": {
   "name": "python_defaultSpec_1597417906244",
   "display_name": "Python 3.8.5 32-bit"
  }
 },
 "nbformat": 4,
 "nbformat_minor": 2,
 "cells": [
  {
   "cell_type": "code",
   "execution_count": 1,
   "metadata": {},
   "outputs": [],
   "source": [
    "from sklearn.preprocessing import StandardScaler\n",
    "import pandas as pd\n",
    "from sklearn.model_selection import train_test_split, ShuffleSplit, GridSearchCV\n",
    "from sklearn import svm\n",
    "from sklearn import metrics\n",
    "from sklearn.preprocessing import LabelEncoder"
   ]
  },
  {
   "cell_type": "code",
   "execution_count": 11,
   "metadata": {},
   "outputs": [
    {
     "output_type": "execute_result",
     "data": {
      "text/plain": "   Private  Apps  Accept  Enroll  Top10perc  Top25perc  F.Undergrad  \\\n0        1  1660    1232     721         23         52         2885   \n1        1  2186    1924     512         16         29         2683   \n2        1  1428    1097     336         22         50         1036   \n3        1   417     349     137         60         89          510   \n4        1   193     146      55         16         44          249   \n\n   P.Undergrad  Outstate  Room.Board  Books  Personal  PhD  Terminal  \\\n0          537      7440        3300    450      2200   70        78   \n1         1227     12280        6450    750      1500   29        30   \n2           99     11250        3750    400      1165   53        66   \n3           63     12960        5450    450       875   92        97   \n4          869      7560        4120    800      1500   76        72   \n\n   S.F.Ratio  perc.alumni  Expend  Grad.Rate  \n0       18.1           12    7041         60  \n1       12.2           16   10527         56  \n2       12.9           30    8735         54  \n3        7.7           37   19016         59  \n4       11.9            2   10922         15  ",
      "text/html": "<div>\n<style scoped>\n    .dataframe tbody tr th:only-of-type {\n        vertical-align: middle;\n    }\n\n    .dataframe tbody tr th {\n        vertical-align: top;\n    }\n\n    .dataframe thead th {\n        text-align: right;\n    }\n</style>\n<table border=\"1\" class=\"dataframe\">\n  <thead>\n    <tr style=\"text-align: right;\">\n      <th></th>\n      <th>Private</th>\n      <th>Apps</th>\n      <th>Accept</th>\n      <th>Enroll</th>\n      <th>Top10perc</th>\n      <th>Top25perc</th>\n      <th>F.Undergrad</th>\n      <th>P.Undergrad</th>\n      <th>Outstate</th>\n      <th>Room.Board</th>\n      <th>Books</th>\n      <th>Personal</th>\n      <th>PhD</th>\n      <th>Terminal</th>\n      <th>S.F.Ratio</th>\n      <th>perc.alumni</th>\n      <th>Expend</th>\n      <th>Grad.Rate</th>\n    </tr>\n  </thead>\n  <tbody>\n    <tr>\n      <th>0</th>\n      <td>1</td>\n      <td>1660</td>\n      <td>1232</td>\n      <td>721</td>\n      <td>23</td>\n      <td>52</td>\n      <td>2885</td>\n      <td>537</td>\n      <td>7440</td>\n      <td>3300</td>\n      <td>450</td>\n      <td>2200</td>\n      <td>70</td>\n      <td>78</td>\n      <td>18.1</td>\n      <td>12</td>\n      <td>7041</td>\n      <td>60</td>\n    </tr>\n    <tr>\n      <th>1</th>\n      <td>1</td>\n      <td>2186</td>\n      <td>1924</td>\n      <td>512</td>\n      <td>16</td>\n      <td>29</td>\n      <td>2683</td>\n      <td>1227</td>\n      <td>12280</td>\n      <td>6450</td>\n      <td>750</td>\n      <td>1500</td>\n      <td>29</td>\n      <td>30</td>\n      <td>12.2</td>\n      <td>16</td>\n      <td>10527</td>\n      <td>56</td>\n    </tr>\n    <tr>\n      <th>2</th>\n      <td>1</td>\n      <td>1428</td>\n      <td>1097</td>\n      <td>336</td>\n      <td>22</td>\n      <td>50</td>\n      <td>1036</td>\n      <td>99</td>\n      <td>11250</td>\n      <td>3750</td>\n      <td>400</td>\n      <td>1165</td>\n      <td>53</td>\n      <td>66</td>\n      <td>12.9</td>\n      <td>30</td>\n      <td>8735</td>\n      <td>54</td>\n    </tr>\n    <tr>\n      <th>3</th>\n      <td>1</td>\n      <td>417</td>\n      <td>349</td>\n      <td>137</td>\n      <td>60</td>\n      <td>89</td>\n      <td>510</td>\n      <td>63</td>\n      <td>12960</td>\n      <td>5450</td>\n      <td>450</td>\n      <td>875</td>\n      <td>92</td>\n      <td>97</td>\n      <td>7.7</td>\n      <td>37</td>\n      <td>19016</td>\n      <td>59</td>\n    </tr>\n    <tr>\n      <th>4</th>\n      <td>1</td>\n      <td>193</td>\n      <td>146</td>\n      <td>55</td>\n      <td>16</td>\n      <td>44</td>\n      <td>249</td>\n      <td>869</td>\n      <td>7560</td>\n      <td>4120</td>\n      <td>800</td>\n      <td>1500</td>\n      <td>76</td>\n      <td>72</td>\n      <td>11.9</td>\n      <td>2</td>\n      <td>10922</td>\n      <td>15</td>\n    </tr>\n  </tbody>\n</table>\n</div>"
     },
     "metadata": {},
     "execution_count": 11
    }
   ],
   "source": [
    "#1\n",
    "data = pd.read_csv(\"C://Users//Administrator//.vscode//Module 9//College.csv\")\n",
    "data.head()\n",
    "\n",
    "labelencoder = LabelEncoder()\n",
    "data[\"Private\"] = labelencoder.fit_transform(data[\"Private\"])\n",
    "data.head()"
   ]
  },
  {
   "cell_type": "code",
   "execution_count": 12,
   "metadata": {},
   "outputs": [],
   "source": [
    "#2\n",
    "X = data.iloc[:, 1:]\n",
    "Y = data[\"Private\"]\n",
    "\n",
    "train_x, test_x, train_y, test_y = train_test_split(\n",
    "    X, Y, test_size=0.30, random_state=10)"
   ]
  },
  {
   "cell_type": "code",
   "execution_count": 13,
   "metadata": {
    "tags": []
   },
   "outputs": [
    {
     "output_type": "stream",
     "name": "stdout",
     "text": "\nAccuracy Score\n\n0.9316239316239316\n"
    }
   ],
   "source": [
    "#3\n",
    "model_svm = svm.LinearSVC()\n",
    "model_svm.fit(train_x, train_y)\n",
    "predicted_values = model_svm.predict(test_x)\n",
    "\n",
    "print(\"\\nAccuracy Score\\n\")\n",
    "print(metrics.accuracy_score(predicted_values, test_y))\n"
   ]
  },
  {
   "cell_type": "code",
   "execution_count": 14,
   "metadata": {},
   "outputs": [
    {
     "output_type": "execute_result",
     "data": {
      "text/plain": "0.905982905982906"
     },
     "metadata": {},
     "execution_count": 14
    }
   ],
   "source": [
    "#4\n",
    "scaler_df = StandardScaler().fit_transform(X)\n",
    "scaler_df = pd.DataFrame(X, columns=X.columns)\n",
    "\n",
    "X = scaler_df\n",
    "Y = data[\"Private\"]\n",
    "\n",
    "train_x, test_x, train_y, test_y = train_test_split(\n",
    "    X, Y, test_size=0.30, random_state=10)\n",
    "\n",
    "model_svm = svm.LinearSVC()\n",
    "model_svm.fit(train_x, train_y)\n",
    "\n",
    "predicted_values = model_svm.predict(test_x)\n",
    "metrics.accuracy_score(predicted_values, test_y)\n"
   ]
  },
  {
   "cell_type": "code",
   "execution_count": 15,
   "metadata": {},
   "outputs": [],
   "source": [
    "#5\n",
    "parameter_candidates = [\n",
    "    {'C': [1, 10, 100, 1000], 'kernel': ['poly']},\n",
    "    {'C': [1, 10, 100, 1000], 'kernel': ['linear']},\n",
    "    {'C': [1, 10, 100, 1000], 'gamma': [0.001, 0.0001], 'kernel': ['rbf']},\n",
    "]"
   ]
  },
  {
   "cell_type": "code",
   "execution_count": 16,
   "metadata": {},
   "outputs": [],
   "source": [
    "cv = ShuffleSplit()\n",
    "clf = GridSearchCV(estimator=svm.SVC(max_iter=1000),\n",
    "                   param_grid=parameter_candidates, n_jobs=-1, cv=cv)"
   ]
  },
  {
   "cell_type": "code",
   "execution_count": 17,
   "metadata": {},
   "outputs": [
    {
     "output_type": "execute_result",
     "data": {
      "text/plain": "GridSearchCV(cv=ShuffleSplit(n_splits=10, random_state=None, test_size=None, train_size=None),\n             estimator=SVC(max_iter=1000), n_jobs=-1,\n             param_grid=[{'C': [1, 10, 100, 1000], 'kernel': ['poly']},\n                         {'C': [1, 10, 100, 1000], 'kernel': ['linear']},\n                         {'C': [1, 10, 100, 1000], 'gamma': [0.001, 0.0001],\n                          'kernel': ['rbf']}])"
     },
     "metadata": {},
     "execution_count": 17
    }
   ],
   "source": [
    "clf.fit(train_x, train_y)"
   ]
  },
  {
   "cell_type": "code",
   "execution_count": 18,
   "metadata": {
    "tags": []
   },
   "outputs": [
    {
     "output_type": "stream",
     "name": "stdout",
     "text": "Best score for data1: 0.9218181818181819\n"
    }
   ],
   "source": [
    "print('Best score for data1:', clf.best_score_)"
   ]
  },
  {
   "cell_type": "code",
   "execution_count": 19,
   "metadata": {
    "tags": []
   },
   "outputs": [
    {
     "output_type": "stream",
     "name": "stdout",
     "text": "Best C: 10\nBest Kernel: poly\nBest Gamma: scale\n"
    }
   ],
   "source": [
    "print('Best C:', clf.best_estimator_.C)\n",
    "print('Best Kernel:', clf.best_estimator_.kernel)\n",
    "print('Best Gamma:', clf.best_estimator_.gamma)"
   ]
  },
  {
   "cell_type": "code",
   "execution_count": null,
   "metadata": {},
   "outputs": [],
   "source": []
  }
 ]
}