{
 "metadata": {
  "language_info": {
   "codemirror_mode": {
    "name": "ipython",
    "version": 3
   },
   "file_extension": ".py",
   "mimetype": "text/x-python",
   "name": "python",
   "nbconvert_exporter": "python",
   "pygments_lexer": "ipython3",
   "version": "3.8.5-final"
  },
  "orig_nbformat": 2,
  "kernelspec": {
   "name": "python_defaultSpec_1598142645854",
   "display_name": "Python 3.8.5 32-bit"
  }
 },
 "nbformat": 4,
 "nbformat_minor": 2,
 "cells": [
  {
   "cell_type": "code",
   "execution_count": 1,
   "metadata": {},
   "outputs": [],
   "source": [
    "import numpy as np\n",
    "import pandas as pd\n",
    "import matplotlib.pyplot as plt\n",
    "import seaborn as sns\n",
    "from sklearn import metrics\n",
    "from sklearn.model_selection import train_test_split"
   ]
  },
  {
   "cell_type": "code",
   "execution_count": 2,
   "metadata": {},
   "outputs": [
    {
     "output_type": "execute_result",
     "data": {
      "text/plain": "   id                species   margin1   margin2   margin3   margin4  \\\n0   1            Acer_Opalus  0.007812  0.023438  0.023438  0.003906   \n1   2  Pterocarya_Stenoptera  0.005859  0.000000  0.031250  0.015625   \n2   3   Quercus_Hartwissiana  0.005859  0.009766  0.019531  0.007812   \n3   5        Tilia_Tomentosa  0.000000  0.003906  0.023438  0.005859   \n4   6     Quercus_Variabilis  0.005859  0.003906  0.048828  0.009766   \n\n    margin5   margin6   margin7  margin8  ...  texture55  texture56  \\\n0  0.011719  0.009766  0.027344      0.0  ...   0.007812   0.000000   \n1  0.025391  0.001953  0.019531      0.0  ...   0.000977   0.000000   \n2  0.003906  0.005859  0.068359      0.0  ...   0.154300   0.000000   \n3  0.021484  0.019531  0.023438      0.0  ...   0.000000   0.000977   \n4  0.013672  0.015625  0.005859      0.0  ...   0.096680   0.000000   \n\n   texture57  texture58  texture59  texture60  texture61  texture62  \\\n0   0.002930   0.002930   0.035156        0.0        0.0   0.004883   \n1   0.000000   0.000977   0.023438        0.0        0.0   0.000977   \n2   0.005859   0.000977   0.007812        0.0        0.0   0.000000   \n3   0.000000   0.000000   0.020508        0.0        0.0   0.017578   \n4   0.021484   0.000000   0.000000        0.0        0.0   0.000000   \n\n   texture63  texture64  \n0   0.000000   0.025391  \n1   0.039062   0.022461  \n2   0.020508   0.002930  \n3   0.000000   0.047852  \n4   0.000000   0.031250  \n\n[5 rows x 194 columns]",
      "text/html": "<div>\n<style scoped>\n    .dataframe tbody tr th:only-of-type {\n        vertical-align: middle;\n    }\n\n    .dataframe tbody tr th {\n        vertical-align: top;\n    }\n\n    .dataframe thead th {\n        text-align: right;\n    }\n</style>\n<table border=\"1\" class=\"dataframe\">\n  <thead>\n    <tr style=\"text-align: right;\">\n      <th></th>\n      <th>id</th>\n      <th>species</th>\n      <th>margin1</th>\n      <th>margin2</th>\n      <th>margin3</th>\n      <th>margin4</th>\n      <th>margin5</th>\n      <th>margin6</th>\n      <th>margin7</th>\n      <th>margin8</th>\n      <th>...</th>\n      <th>texture55</th>\n      <th>texture56</th>\n      <th>texture57</th>\n      <th>texture58</th>\n      <th>texture59</th>\n      <th>texture60</th>\n      <th>texture61</th>\n      <th>texture62</th>\n      <th>texture63</th>\n      <th>texture64</th>\n    </tr>\n  </thead>\n  <tbody>\n    <tr>\n      <th>0</th>\n      <td>1</td>\n      <td>Acer_Opalus</td>\n      <td>0.007812</td>\n      <td>0.023438</td>\n      <td>0.023438</td>\n      <td>0.003906</td>\n      <td>0.011719</td>\n      <td>0.009766</td>\n      <td>0.027344</td>\n      <td>0.0</td>\n      <td>...</td>\n      <td>0.007812</td>\n      <td>0.000000</td>\n      <td>0.002930</td>\n      <td>0.002930</td>\n      <td>0.035156</td>\n      <td>0.0</td>\n      <td>0.0</td>\n      <td>0.004883</td>\n      <td>0.000000</td>\n      <td>0.025391</td>\n    </tr>\n    <tr>\n      <th>1</th>\n      <td>2</td>\n      <td>Pterocarya_Stenoptera</td>\n      <td>0.005859</td>\n      <td>0.000000</td>\n      <td>0.031250</td>\n      <td>0.015625</td>\n      <td>0.025391</td>\n      <td>0.001953</td>\n      <td>0.019531</td>\n      <td>0.0</td>\n      <td>...</td>\n      <td>0.000977</td>\n      <td>0.000000</td>\n      <td>0.000000</td>\n      <td>0.000977</td>\n      <td>0.023438</td>\n      <td>0.0</td>\n      <td>0.0</td>\n      <td>0.000977</td>\n      <td>0.039062</td>\n      <td>0.022461</td>\n    </tr>\n    <tr>\n      <th>2</th>\n      <td>3</td>\n      <td>Quercus_Hartwissiana</td>\n      <td>0.005859</td>\n      <td>0.009766</td>\n      <td>0.019531</td>\n      <td>0.007812</td>\n      <td>0.003906</td>\n      <td>0.005859</td>\n      <td>0.068359</td>\n      <td>0.0</td>\n      <td>...</td>\n      <td>0.154300</td>\n      <td>0.000000</td>\n      <td>0.005859</td>\n      <td>0.000977</td>\n      <td>0.007812</td>\n      <td>0.0</td>\n      <td>0.0</td>\n      <td>0.000000</td>\n      <td>0.020508</td>\n      <td>0.002930</td>\n    </tr>\n    <tr>\n      <th>3</th>\n      <td>5</td>\n      <td>Tilia_Tomentosa</td>\n      <td>0.000000</td>\n      <td>0.003906</td>\n      <td>0.023438</td>\n      <td>0.005859</td>\n      <td>0.021484</td>\n      <td>0.019531</td>\n      <td>0.023438</td>\n      <td>0.0</td>\n      <td>...</td>\n      <td>0.000000</td>\n      <td>0.000977</td>\n      <td>0.000000</td>\n      <td>0.000000</td>\n      <td>0.020508</td>\n      <td>0.0</td>\n      <td>0.0</td>\n      <td>0.017578</td>\n      <td>0.000000</td>\n      <td>0.047852</td>\n    </tr>\n    <tr>\n      <th>4</th>\n      <td>6</td>\n      <td>Quercus_Variabilis</td>\n      <td>0.005859</td>\n      <td>0.003906</td>\n      <td>0.048828</td>\n      <td>0.009766</td>\n      <td>0.013672</td>\n      <td>0.015625</td>\n      <td>0.005859</td>\n      <td>0.0</td>\n      <td>...</td>\n      <td>0.096680</td>\n      <td>0.000000</td>\n      <td>0.021484</td>\n      <td>0.000000</td>\n      <td>0.000000</td>\n      <td>0.0</td>\n      <td>0.0</td>\n      <td>0.000000</td>\n      <td>0.000000</td>\n      <td>0.031250</td>\n    </tr>\n  </tbody>\n</table>\n<p>5 rows × 194 columns</p>\n</div>"
     },
     "metadata": {},
     "execution_count": 2
    }
   ],
   "source": [
    "train_data = pd.read_csv(\"C://Users//Administrator//.vscode//Project//574_cert_proj_dataset_v3.0//train.csv\")\n",
    "train_data.head()"
   ]
  },
  {
   "cell_type": "code",
   "execution_count": 3,
   "metadata": {},
   "outputs": [
    {
     "output_type": "execute_result",
     "data": {
      "text/plain": "   id   margin1   margin2   margin3   margin4   margin5   margin6   margin7  \\\n0   4  0.019531  0.009766  0.078125  0.011719  0.003906  0.015625  0.005859   \n1   7  0.007812  0.005859  0.064453  0.009766  0.003906  0.013672  0.007812   \n2   9  0.000000  0.000000  0.001953  0.021484  0.041016  0.000000  0.023438   \n3  12  0.000000  0.000000  0.009766  0.011719  0.017578  0.000000  0.003906   \n4  13  0.001953  0.000000  0.015625  0.009766  0.039062  0.000000  0.009766   \n\n   margin8   margin9  ...  texture55  texture56  texture57  texture58  \\\n0      0.0  0.005859  ...   0.006836   0.000000   0.015625   0.000977   \n1      0.0  0.033203  ...   0.000000   0.000000   0.006836   0.001953   \n2      0.0  0.011719  ...   0.128910   0.000000   0.000977   0.000000   \n3      0.0  0.003906  ...   0.012695   0.015625   0.002930   0.036133   \n4      0.0  0.005859  ...   0.000000   0.042969   0.016602   0.010742   \n\n   texture59  texture60  texture61  texture62  texture63  texture64  \n0   0.015625        0.0        0.0   0.000000   0.003906   0.053711  \n1   0.013672        0.0        0.0   0.000977   0.037109   0.044922  \n2   0.000000        0.0        0.0   0.015625   0.000000   0.000000  \n3   0.013672        0.0        0.0   0.089844   0.000000   0.008789  \n4   0.041016        0.0        0.0   0.007812   0.009766   0.007812  \n\n[5 rows x 193 columns]",
      "text/html": "<div>\n<style scoped>\n    .dataframe tbody tr th:only-of-type {\n        vertical-align: middle;\n    }\n\n    .dataframe tbody tr th {\n        vertical-align: top;\n    }\n\n    .dataframe thead th {\n        text-align: right;\n    }\n</style>\n<table border=\"1\" class=\"dataframe\">\n  <thead>\n    <tr style=\"text-align: right;\">\n      <th></th>\n      <th>id</th>\n      <th>margin1</th>\n      <th>margin2</th>\n      <th>margin3</th>\n      <th>margin4</th>\n      <th>margin5</th>\n      <th>margin6</th>\n      <th>margin7</th>\n      <th>margin8</th>\n      <th>margin9</th>\n      <th>...</th>\n      <th>texture55</th>\n      <th>texture56</th>\n      <th>texture57</th>\n      <th>texture58</th>\n      <th>texture59</th>\n      <th>texture60</th>\n      <th>texture61</th>\n      <th>texture62</th>\n      <th>texture63</th>\n      <th>texture64</th>\n    </tr>\n  </thead>\n  <tbody>\n    <tr>\n      <th>0</th>\n      <td>4</td>\n      <td>0.019531</td>\n      <td>0.009766</td>\n      <td>0.078125</td>\n      <td>0.011719</td>\n      <td>0.003906</td>\n      <td>0.015625</td>\n      <td>0.005859</td>\n      <td>0.0</td>\n      <td>0.005859</td>\n      <td>...</td>\n      <td>0.006836</td>\n      <td>0.000000</td>\n      <td>0.015625</td>\n      <td>0.000977</td>\n      <td>0.015625</td>\n      <td>0.0</td>\n      <td>0.0</td>\n      <td>0.000000</td>\n      <td>0.003906</td>\n      <td>0.053711</td>\n    </tr>\n    <tr>\n      <th>1</th>\n      <td>7</td>\n      <td>0.007812</td>\n      <td>0.005859</td>\n      <td>0.064453</td>\n      <td>0.009766</td>\n      <td>0.003906</td>\n      <td>0.013672</td>\n      <td>0.007812</td>\n      <td>0.0</td>\n      <td>0.033203</td>\n      <td>...</td>\n      <td>0.000000</td>\n      <td>0.000000</td>\n      <td>0.006836</td>\n      <td>0.001953</td>\n      <td>0.013672</td>\n      <td>0.0</td>\n      <td>0.0</td>\n      <td>0.000977</td>\n      <td>0.037109</td>\n      <td>0.044922</td>\n    </tr>\n    <tr>\n      <th>2</th>\n      <td>9</td>\n      <td>0.000000</td>\n      <td>0.000000</td>\n      <td>0.001953</td>\n      <td>0.021484</td>\n      <td>0.041016</td>\n      <td>0.000000</td>\n      <td>0.023438</td>\n      <td>0.0</td>\n      <td>0.011719</td>\n      <td>...</td>\n      <td>0.128910</td>\n      <td>0.000000</td>\n      <td>0.000977</td>\n      <td>0.000000</td>\n      <td>0.000000</td>\n      <td>0.0</td>\n      <td>0.0</td>\n      <td>0.015625</td>\n      <td>0.000000</td>\n      <td>0.000000</td>\n    </tr>\n    <tr>\n      <th>3</th>\n      <td>12</td>\n      <td>0.000000</td>\n      <td>0.000000</td>\n      <td>0.009766</td>\n      <td>0.011719</td>\n      <td>0.017578</td>\n      <td>0.000000</td>\n      <td>0.003906</td>\n      <td>0.0</td>\n      <td>0.003906</td>\n      <td>...</td>\n      <td>0.012695</td>\n      <td>0.015625</td>\n      <td>0.002930</td>\n      <td>0.036133</td>\n      <td>0.013672</td>\n      <td>0.0</td>\n      <td>0.0</td>\n      <td>0.089844</td>\n      <td>0.000000</td>\n      <td>0.008789</td>\n    </tr>\n    <tr>\n      <th>4</th>\n      <td>13</td>\n      <td>0.001953</td>\n      <td>0.000000</td>\n      <td>0.015625</td>\n      <td>0.009766</td>\n      <td>0.039062</td>\n      <td>0.000000</td>\n      <td>0.009766</td>\n      <td>0.0</td>\n      <td>0.005859</td>\n      <td>...</td>\n      <td>0.000000</td>\n      <td>0.042969</td>\n      <td>0.016602</td>\n      <td>0.010742</td>\n      <td>0.041016</td>\n      <td>0.0</td>\n      <td>0.0</td>\n      <td>0.007812</td>\n      <td>0.009766</td>\n      <td>0.007812</td>\n    </tr>\n  </tbody>\n</table>\n<p>5 rows × 193 columns</p>\n</div>"
     },
     "metadata": {},
     "execution_count": 3
    }
   ],
   "source": [
    "test_data = pd.read_csv(\"C://Users//Administrator//.vscode//Project//574_cert_proj_dataset_v3.0//test.csv\")\n",
    "test_data.head()"
   ]
  },
  {
   "cell_type": "code",
   "execution_count": 4,
   "metadata": {},
   "outputs": [
    {
     "output_type": "execute_result",
     "data": {
      "text/plain": "   id  species   margin1   margin2   margin3   margin4   margin5   margin6  \\\n0   1        3  0.007812  0.023438  0.023438  0.003906  0.011719  0.009766   \n1   2       49  0.005859  0.000000  0.031250  0.015625  0.025391  0.001953   \n2   3       65  0.005859  0.009766  0.019531  0.007812  0.003906  0.005859   \n3   5       94  0.000000  0.003906  0.023438  0.005859  0.021484  0.019531   \n4   6       84  0.005859  0.003906  0.048828  0.009766  0.013672  0.015625   \n\n    margin7  margin8  ...  texture55  texture56  texture57  texture58  \\\n0  0.027344      0.0  ...   0.007812   0.000000   0.002930   0.002930   \n1  0.019531      0.0  ...   0.000977   0.000000   0.000000   0.000977   \n2  0.068359      0.0  ...   0.154300   0.000000   0.005859   0.000977   \n3  0.023438      0.0  ...   0.000000   0.000977   0.000000   0.000000   \n4  0.005859      0.0  ...   0.096680   0.000000   0.021484   0.000000   \n\n   texture59  texture60  texture61  texture62  texture63  texture64  \n0   0.035156        0.0        0.0   0.004883   0.000000   0.025391  \n1   0.023438        0.0        0.0   0.000977   0.039062   0.022461  \n2   0.007812        0.0        0.0   0.000000   0.020508   0.002930  \n3   0.020508        0.0        0.0   0.017578   0.000000   0.047852  \n4   0.000000        0.0        0.0   0.000000   0.000000   0.031250  \n\n[5 rows x 194 columns]",
      "text/html": "<div>\n<style scoped>\n    .dataframe tbody tr th:only-of-type {\n        vertical-align: middle;\n    }\n\n    .dataframe tbody tr th {\n        vertical-align: top;\n    }\n\n    .dataframe thead th {\n        text-align: right;\n    }\n</style>\n<table border=\"1\" class=\"dataframe\">\n  <thead>\n    <tr style=\"text-align: right;\">\n      <th></th>\n      <th>id</th>\n      <th>species</th>\n      <th>margin1</th>\n      <th>margin2</th>\n      <th>margin3</th>\n      <th>margin4</th>\n      <th>margin5</th>\n      <th>margin6</th>\n      <th>margin7</th>\n      <th>margin8</th>\n      <th>...</th>\n      <th>texture55</th>\n      <th>texture56</th>\n      <th>texture57</th>\n      <th>texture58</th>\n      <th>texture59</th>\n      <th>texture60</th>\n      <th>texture61</th>\n      <th>texture62</th>\n      <th>texture63</th>\n      <th>texture64</th>\n    </tr>\n  </thead>\n  <tbody>\n    <tr>\n      <th>0</th>\n      <td>1</td>\n      <td>3</td>\n      <td>0.007812</td>\n      <td>0.023438</td>\n      <td>0.023438</td>\n      <td>0.003906</td>\n      <td>0.011719</td>\n      <td>0.009766</td>\n      <td>0.027344</td>\n      <td>0.0</td>\n      <td>...</td>\n      <td>0.007812</td>\n      <td>0.000000</td>\n      <td>0.002930</td>\n      <td>0.002930</td>\n      <td>0.035156</td>\n      <td>0.0</td>\n      <td>0.0</td>\n      <td>0.004883</td>\n      <td>0.000000</td>\n      <td>0.025391</td>\n    </tr>\n    <tr>\n      <th>1</th>\n      <td>2</td>\n      <td>49</td>\n      <td>0.005859</td>\n      <td>0.000000</td>\n      <td>0.031250</td>\n      <td>0.015625</td>\n      <td>0.025391</td>\n      <td>0.001953</td>\n      <td>0.019531</td>\n      <td>0.0</td>\n      <td>...</td>\n      <td>0.000977</td>\n      <td>0.000000</td>\n      <td>0.000000</td>\n      <td>0.000977</td>\n      <td>0.023438</td>\n      <td>0.0</td>\n      <td>0.0</td>\n      <td>0.000977</td>\n      <td>0.039062</td>\n      <td>0.022461</td>\n    </tr>\n    <tr>\n      <th>2</th>\n      <td>3</td>\n      <td>65</td>\n      <td>0.005859</td>\n      <td>0.009766</td>\n      <td>0.019531</td>\n      <td>0.007812</td>\n      <td>0.003906</td>\n      <td>0.005859</td>\n      <td>0.068359</td>\n      <td>0.0</td>\n      <td>...</td>\n      <td>0.154300</td>\n      <td>0.000000</td>\n      <td>0.005859</td>\n      <td>0.000977</td>\n      <td>0.007812</td>\n      <td>0.0</td>\n      <td>0.0</td>\n      <td>0.000000</td>\n      <td>0.020508</td>\n      <td>0.002930</td>\n    </tr>\n    <tr>\n      <th>3</th>\n      <td>5</td>\n      <td>94</td>\n      <td>0.000000</td>\n      <td>0.003906</td>\n      <td>0.023438</td>\n      <td>0.005859</td>\n      <td>0.021484</td>\n      <td>0.019531</td>\n      <td>0.023438</td>\n      <td>0.0</td>\n      <td>...</td>\n      <td>0.000000</td>\n      <td>0.000977</td>\n      <td>0.000000</td>\n      <td>0.000000</td>\n      <td>0.020508</td>\n      <td>0.0</td>\n      <td>0.0</td>\n      <td>0.017578</td>\n      <td>0.000000</td>\n      <td>0.047852</td>\n    </tr>\n    <tr>\n      <th>4</th>\n      <td>6</td>\n      <td>84</td>\n      <td>0.005859</td>\n      <td>0.003906</td>\n      <td>0.048828</td>\n      <td>0.009766</td>\n      <td>0.013672</td>\n      <td>0.015625</td>\n      <td>0.005859</td>\n      <td>0.0</td>\n      <td>...</td>\n      <td>0.096680</td>\n      <td>0.000000</td>\n      <td>0.021484</td>\n      <td>0.000000</td>\n      <td>0.000000</td>\n      <td>0.0</td>\n      <td>0.0</td>\n      <td>0.000000</td>\n      <td>0.000000</td>\n      <td>0.031250</td>\n    </tr>\n  </tbody>\n</table>\n<p>5 rows × 194 columns</p>\n</div>"
     },
     "metadata": {},
     "execution_count": 4
    }
   ],
   "source": [
    "from sklearn.preprocessing import LabelEncoder\n",
    "\n",
    "labelencoder = LabelEncoder()\n",
    "train_data[\"species\"] = labelencoder.fit_transform(train_data[\"species\"])\n",
    "train_data.head()"
   ]
  },
  {
   "cell_type": "code",
   "execution_count": 5,
   "metadata": {},
   "outputs": [],
   "source": [
    "X = train_data.iloc[:,1:]\n",
    "Y = train_data[\"species\"]"
   ]
  },
  {
   "cell_type": "code",
   "execution_count": 6,
   "metadata": {},
   "outputs": [],
   "source": [
    "train_x, test_x, train_y, test_y = train_test_split(X, Y, random_state = 5, test_size = 20)"
   ]
  },
  {
   "cell_type": "code",
   "execution_count": 7,
   "metadata": {
    "tags": []
   },
   "outputs": [
    {
     "output_type": "stream",
     "name": "stdout",
     "text": "Radom Forest Accuracy Score :  0.95\n"
    }
   ],
   "source": [
    "from sklearn.ensemble import RandomForestClassifier\n",
    "\n",
    "ran_class = RandomForestClassifier(n_estimators=100)\n",
    "ran_class.fit(train_x, train_y)\n",
    "\n",
    "predict_rf = ran_class.predict(test_x)\n",
    "print(\"Radom Forest Accuracy Score : \", metrics.accuracy_score(predict_rf, test_y))"
   ]
  },
  {
   "cell_type": "code",
   "execution_count": 8,
   "metadata": {
    "tags": []
   },
   "outputs": [
    {
     "output_type": "stream",
     "name": "stdout",
     "text": "Decision Tree Accuracy Score :  0.65\n"
    }
   ],
   "source": [
    "from sklearn.tree import DecisionTreeClassifier\n",
    "\n",
    "dec_class = DecisionTreeClassifier()\n",
    "dec_class.fit(train_x, train_y)\n",
    "\n",
    "predict_dt = dec_class.predict(test_x)\n",
    "print(\"Decision Tree Accuracy Score : \", metrics.accuracy_score(predict_dt, test_y))"
   ]
  },
  {
   "cell_type": "code",
   "execution_count": 9,
   "metadata": {
    "tags": []
   },
   "outputs": [
    {
     "output_type": "stream",
     "name": "stdout",
     "text": "Naive Bayes Accuracy Score :  1.0\n"
    }
   ],
   "source": [
    "from sklearn.naive_bayes import GaussianNB\n",
    "\n",
    "gn_class = GaussianNB()\n",
    "gn_class.fit(train_x, train_y)\n",
    "\n",
    "predict_gn = gn_class.predict(test_x)\n",
    "print(\"Naive Bayes Accuracy Score : \", metrics.accuracy_score(predict_gn, test_y))"
   ]
  },
  {
   "cell_type": "code",
   "execution_count": 10,
   "metadata": {
    "tags": []
   },
   "outputs": [
    {
     "output_type": "stream",
     "name": "stdout",
     "text": "SVM Accuracy Score :  0.1\n"
    }
   ],
   "source": [
    "from sklearn.svm import LinearSVC\n",
    "\n",
    "svm_class = LinearSVC()\n",
    "svm_class.fit(train_x, train_y)\n",
    "\n",
    "predict_svm = svm_class.predict(test_x)\n",
    "print(\"SVM Accuracy Score : \", metrics.accuracy_score(predict_svm, test_y))"
   ]
  },
  {
   "cell_type": "code",
   "execution_count": 11,
   "metadata": {},
   "outputs": [
    {
     "output_type": "execute_result",
     "data": {
      "text/plain": "   id   margin1   margin2   margin3   margin4   margin5   margin6   margin7  \\\n0   4  0.019531  0.009766  0.078125  0.011719  0.003906  0.015625  0.005859   \n1   7  0.007812  0.005859  0.064453  0.009766  0.003906  0.013672  0.007812   \n2   9  0.000000  0.000000  0.001953  0.021484  0.041016  0.000000  0.023438   \n3  12  0.000000  0.000000  0.009766  0.011719  0.017578  0.000000  0.003906   \n4  13  0.001953  0.000000  0.015625  0.009766  0.039062  0.000000  0.009766   \n\n   margin8   margin9  ...  texture56  texture57  texture58  texture59  \\\n0      0.0  0.005859  ...   0.000000   0.015625   0.000977   0.015625   \n1      0.0  0.033203  ...   0.000000   0.006836   0.001953   0.013672   \n2      0.0  0.011719  ...   0.000000   0.000977   0.000000   0.000000   \n3      0.0  0.003906  ...   0.015625   0.002930   0.036133   0.013672   \n4      0.0  0.005859  ...   0.042969   0.016602   0.010742   0.041016   \n\n   texture60  texture61  texture62  texture63  texture64            species  \n0        0.0        0.0   0.000000   0.003906   0.053711      Acer_Palmatum  \n1        0.0        0.0   0.000977   0.037109   0.044922        Acer_Rubrum  \n2        0.0        0.0   0.015625   0.000000   0.000000   Acer_Saccharinum  \n3        0.0        0.0   0.089844   0.000000   0.008789        Alnus_Rubra  \n4        0.0        0.0   0.007812   0.009766   0.007812  Alnus_Sieboldiana  \n\n[5 rows x 194 columns]",
      "text/html": "<div>\n<style scoped>\n    .dataframe tbody tr th:only-of-type {\n        vertical-align: middle;\n    }\n\n    .dataframe tbody tr th {\n        vertical-align: top;\n    }\n\n    .dataframe thead th {\n        text-align: right;\n    }\n</style>\n<table border=\"1\" class=\"dataframe\">\n  <thead>\n    <tr style=\"text-align: right;\">\n      <th></th>\n      <th>id</th>\n      <th>margin1</th>\n      <th>margin2</th>\n      <th>margin3</th>\n      <th>margin4</th>\n      <th>margin5</th>\n      <th>margin6</th>\n      <th>margin7</th>\n      <th>margin8</th>\n      <th>margin9</th>\n      <th>...</th>\n      <th>texture56</th>\n      <th>texture57</th>\n      <th>texture58</th>\n      <th>texture59</th>\n      <th>texture60</th>\n      <th>texture61</th>\n      <th>texture62</th>\n      <th>texture63</th>\n      <th>texture64</th>\n      <th>species</th>\n    </tr>\n  </thead>\n  <tbody>\n    <tr>\n      <th>0</th>\n      <td>4</td>\n      <td>0.019531</td>\n      <td>0.009766</td>\n      <td>0.078125</td>\n      <td>0.011719</td>\n      <td>0.003906</td>\n      <td>0.015625</td>\n      <td>0.005859</td>\n      <td>0.0</td>\n      <td>0.005859</td>\n      <td>...</td>\n      <td>0.000000</td>\n      <td>0.015625</td>\n      <td>0.000977</td>\n      <td>0.015625</td>\n      <td>0.0</td>\n      <td>0.0</td>\n      <td>0.000000</td>\n      <td>0.003906</td>\n      <td>0.053711</td>\n      <td>Acer_Palmatum</td>\n    </tr>\n    <tr>\n      <th>1</th>\n      <td>7</td>\n      <td>0.007812</td>\n      <td>0.005859</td>\n      <td>0.064453</td>\n      <td>0.009766</td>\n      <td>0.003906</td>\n      <td>0.013672</td>\n      <td>0.007812</td>\n      <td>0.0</td>\n      <td>0.033203</td>\n      <td>...</td>\n      <td>0.000000</td>\n      <td>0.006836</td>\n      <td>0.001953</td>\n      <td>0.013672</td>\n      <td>0.0</td>\n      <td>0.0</td>\n      <td>0.000977</td>\n      <td>0.037109</td>\n      <td>0.044922</td>\n      <td>Acer_Rubrum</td>\n    </tr>\n    <tr>\n      <th>2</th>\n      <td>9</td>\n      <td>0.000000</td>\n      <td>0.000000</td>\n      <td>0.001953</td>\n      <td>0.021484</td>\n      <td>0.041016</td>\n      <td>0.000000</td>\n      <td>0.023438</td>\n      <td>0.0</td>\n      <td>0.011719</td>\n      <td>...</td>\n      <td>0.000000</td>\n      <td>0.000977</td>\n      <td>0.000000</td>\n      <td>0.000000</td>\n      <td>0.0</td>\n      <td>0.0</td>\n      <td>0.015625</td>\n      <td>0.000000</td>\n      <td>0.000000</td>\n      <td>Acer_Saccharinum</td>\n    </tr>\n    <tr>\n      <th>3</th>\n      <td>12</td>\n      <td>0.000000</td>\n      <td>0.000000</td>\n      <td>0.009766</td>\n      <td>0.011719</td>\n      <td>0.017578</td>\n      <td>0.000000</td>\n      <td>0.003906</td>\n      <td>0.0</td>\n      <td>0.003906</td>\n      <td>...</td>\n      <td>0.015625</td>\n      <td>0.002930</td>\n      <td>0.036133</td>\n      <td>0.013672</td>\n      <td>0.0</td>\n      <td>0.0</td>\n      <td>0.089844</td>\n      <td>0.000000</td>\n      <td>0.008789</td>\n      <td>Alnus_Rubra</td>\n    </tr>\n    <tr>\n      <th>4</th>\n      <td>13</td>\n      <td>0.001953</td>\n      <td>0.000000</td>\n      <td>0.015625</td>\n      <td>0.009766</td>\n      <td>0.039062</td>\n      <td>0.000000</td>\n      <td>0.009766</td>\n      <td>0.0</td>\n      <td>0.005859</td>\n      <td>...</td>\n      <td>0.042969</td>\n      <td>0.016602</td>\n      <td>0.010742</td>\n      <td>0.041016</td>\n      <td>0.0</td>\n      <td>0.0</td>\n      <td>0.007812</td>\n      <td>0.009766</td>\n      <td>0.007812</td>\n      <td>Alnus_Sieboldiana</td>\n    </tr>\n  </tbody>\n</table>\n<p>5 rows × 194 columns</p>\n</div>"
     },
     "metadata": {},
     "execution_count": 11
    }
   ],
   "source": [
    "predict_test = gn_class.predict(test_data)\n",
    "\n",
    "test_data[\"species\"] = labelencoder.inverse_transform(predict_test)\n",
    "test_data.head()"
   ]
  },
  {
   "cell_type": "code",
   "execution_count": 12,
   "metadata": {},
   "outputs": [],
   "source": [
    "test_data.to_csv(\"Output.csv\", index=True)"
   ]
  },
  {
   "cell_type": "code",
   "execution_count": null,
   "metadata": {},
   "outputs": [],
   "source": []
  }
 ]
}